{
 "cells": [
  {
   "cell_type": "code",
   "execution_count": 5,
   "metadata": {},
   "outputs": [
    {
     "name": "stdout",
     "output_type": "stream",
     "text": [
      "[1.0, 2.0, 3.0, 4.0, 5.0, 6.0, 7.0, 8.0, 9.0, 10.0]\n",
      "El promedio de esta lista es: 5.5\n"
     ]
    }
   ],
   "source": [
    "#1.Reto 10 \n",
    "lista_elementos = []# Crear una lista vacia \n",
    "R = float(input(\" Ingrese los numeros que estaran es su arreglo\")) #Definir la variabble R \n",
    "while (R != 1000): # Mientras el numero no sea 1000 se sigue con el ingreso de los elementos  \n",
    "    lista_elementos.append(R) # Agregar el elemento a la lista\n",
    "    R= float(input(\"Ingrese los elementos de su arreglo, para terminar de adicionar elememntos digite 1000\")) #Ingresar los balores a lista pero que no sea 1000 porque se para el programa\n",
    "print(lista_elementos) # Imprimir la lista de los elementos ingresados \n",
    "\n",
    "sumar_lista = sum(lista_elementos) # Se suman los elementos de la lista \n",
    "promedio_lista= sum(lista_elementos)/ len(lista_elementos) # Se define promedio como la divison de la suma de los elementos y el numero de elementos \n",
    "print( \"El promedio de este arreglo es: \" + str(promedio_lista)) # Dar el promedio de la lista "
   ]
  },
  {
   "cell_type": "code",
   "execution_count": 15,
   "metadata": {},
   "outputs": [
    {
     "name": "stdout",
     "output_type": "stream",
     "text": [
      "El producto punto es:5\n"
     ]
    }
   ],
   "source": [
    "#2.Reto 10\n",
    "\n",
    "def producto_punto(arreglo1, arreglo2):\n",
    "    # Verificar que los arreglos tengan el mismo tamaño\n",
    "    if len(arreglo1) != len(arreglo2):\n",
    "        print(\"Error: Los arreglos deben tener el mismo tamaño\")\n",
    "        return None\n",
    "\n",
    "    # Inicializar el resultado en cero\n",
    "    resultado = 0\n",
    "\n",
    "    # Calcular el producto punto\n",
    "    for i in range(len(arreglo1)):\n",
    "        resultado += arreglo1[i] * arreglo2[i]\n",
    "\n",
    "    return resultado\n",
    "\n",
    "\n",
    "# Pedir valores\n",
    "arreglo1 = []\n",
    "arreglo2 = []\n",
    "\n",
    "# Ingresar los valores del primer arreglo\n",
    "valores_arreglo1 = input(\"Ingrese los valores del primer arreglo separados por espacios: \").split()\n",
    "for valor in valores_arreglo1:\n",
    "    arreglo1.append(int(valor))\n",
    "\n",
    "# Ingresar los valores del segundo arreglo\n",
    "valores_arreglo2 = input(\"Ingrese los valores del segundo arreglo separados por espacios: \").split()\n",
    "for valor in valores_arreglo2:\n",
    "    arreglo2.append(int(valor))\n",
    "\n",
    "# Calcular el producto punto y mostrar el resultado\n",
    "producto = producto_punto(arreglo1, arreglo2)\n",
    "if producto is not None:\n",
    "    print(\"El producto punto es:\" +  str(producto))\n",
    "\n"
   ]
  },
  {
   "cell_type": "code",
   "execution_count": 10,
   "metadata": {},
   "outputs": [
    {
     "name": "stdout",
     "output_type": "stream",
     "text": [
      "[0, 0, 0, 0, 0, 0, 0, 0, 0, 0, 0, 0, 2, 3, 2]\n",
      "El numero de ceros en la lista es 12\n"
     ]
    }
   ],
   "source": [
    "# 3.Reto 10\n",
    "Lista = [] # Se crea una lista vacia \n",
    "n = int(input(\"Ingrese los numero que dese ingresar a la lista  \")) # se define n como la variable entera \n",
    "while (n != 1000): # Mientras el numero no sea 1000 se sigue con el ingreso de los elementos \n",
    "    Lista.append(n) # Se agrega el elemento a la lista vacia \n",
    "    n= int(input(\"Ingrese los elementos de su arreglo, para terminar de adicionar elememntos digite 1000\"))\n",
    "print(Lista) #Imprimir la lista \n",
    "\n",
    "numero_de_ceros = Lista.count(0) # se define numero_de_ceros como el contador de ceros en la lista creada \n",
    "print(\"El numero de ceros en la lista es \" + str(numero_de_ceros)) # Se imprime el numero de ceros en la lista "
   ]
  }
 ],
 "metadata": {
  "kernelspec": {
   "display_name": "Python 3",
   "language": "python",
   "name": "python3"
  },
  "language_info": {
   "codemirror_mode": {
    "name": "ipython",
    "version": 3
   },
   "file_extension": ".py",
   "mimetype": "text/x-python",
   "name": "python",
   "nbconvert_exporter": "python",
   "pygments_lexer": "ipython3",
   "version": "3.11.2"
  },
  "orig_nbformat": 4
 },
 "nbformat": 4,
 "nbformat_minor": 2
}
